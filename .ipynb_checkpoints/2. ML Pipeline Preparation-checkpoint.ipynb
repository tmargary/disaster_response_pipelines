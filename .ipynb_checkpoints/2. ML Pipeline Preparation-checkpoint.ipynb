{
 "cells": [
  {
   "cell_type": "markdown",
   "metadata": {},
   "source": [
    "# ML Pipeline Preparation\n",
    "Follow the instructions below to help you create your ML pipeline.\n",
    "### 1. Import libraries and load data from database.\n",
    "- Import Python libraries\n",
    "- Load dataset from database with [`read_sql_table`](https://pandas.pydata.org/pandas-docs/stable/generated/pandas.read_sql_table.html)\n",
    "- Define feature and target variables X and Y"
   ]
  },
  {
   "cell_type": "code",
   "execution_count": null,
   "metadata": {},
   "outputs": [],
   "source": [
    "# import libraries\n",
    "import pandas as pd\n",
    "import numpy as np\n",
    "from sqlalchemy import create_engine\n",
    "import sqlite3\n",
    "import re\n",
    "import nltk\n",
    "from nltk.corpus import stopwords\n",
    "from nltk.stem.wordnet import WordNetLemmatizer\n",
    "from nltk.tokenize import word_tokenize\n",
    "from sklearn.model_selection import train_test_split\n",
    "from sklearn.model_selection import GridSearchCV\n",
    "from sklearn.ensemble import RandomForestClassifier\n",
    "from sklearn.feature_extraction.text import CountVectorizer, TfidfTransformer\n",
    "from sklearn.metrics import classification_report\n",
    "from sklearn.base import BaseEstimator, TransformerMixin\n",
    "from sklearn.pipeline import Pipeline, FeatureUnion\n",
    "from sklearn.multioutput import MultiOutputClassifier\n",
    "from sklearn.base import BaseEstimator, TransformerMixin\n",
    "import pickle\n",
    "\n",
    "nltk.download(['punkt', 'wordnet'])"
   ]
  },
  {
   "cell_type": "code",
   "execution_count": null,
   "metadata": {},
   "outputs": [],
   "source": [
    "# load data from database\n",
    "engine = create_engine('sqlite:///DisasterResponse.db')\n",
    "df = pd.read_sql(\"SELECT * FROM DisasterResponse\", engine)\n",
    "#df = df.iloc[:50,:]\n",
    "df.head()"
   ]
  },
  {
   "cell_type": "code",
   "execution_count": null,
   "metadata": {},
   "outputs": [],
   "source": [
    "df.shape"
   ]
  },
  {
   "cell_type": "markdown",
   "metadata": {},
   "source": [
    "### 2. Write a tokenization function to process your text data"
   ]
  },
  {
   "cell_type": "code",
   "execution_count": null,
   "metadata": {},
   "outputs": [],
   "source": [
    "def tokenize(text):\n",
    "    tokens = word_tokenize(text)\n",
    "    lemmatizer = WordNetLemmatizer()\n",
    "    \n",
    "    clean_tokens = []\n",
    "    for tok in tokens:\n",
    "        clean_tok = lemmatizer.lemmatize(tok).lower().strip()\n",
    "        clean_tokens.append(clean_tok)\n",
    "    \n",
    "    return tokens"
   ]
  },
  {
   "cell_type": "code",
   "execution_count": null,
   "metadata": {},
   "outputs": [],
   "source": [
    "# vect = CountVectorizer(tokenizer=tokenize)\n",
    "# tfidf = TfidfTransformer()\n",
    "# clf = MultiOutputClassifier(RandomForestClassifier())\n",
    "\n",
    "# # train classifier\n",
    "# X_train_counts = vect.fit_transform(X_train)\n",
    "# X_train_tfidf = tfidf.fit_transform(X_train_counts)\n",
    "# clf.fit(X_train_tfidf, y_train)\n",
    "\n",
    "# # predict on test data\n",
    "# X_test_counts = vect.transform(X_test)\n",
    "# X_test_tfidf = tfidf.transform(X_test_counts)\n",
    "# y_pred = clf.predict(X_test_tfidf)\n",
    "\n",
    "# accuracy = (y_pred == y_test).mean().mean()\n",
    "# accuracy"
   ]
  },
  {
   "cell_type": "markdown",
   "metadata": {},
   "source": [
    "### 3. Build a machine learning pipeline\n",
    "This machine pipeline should take in the `message` column as input and output classification results on the other 36 categories in the dataset. You may find the [MultiOutputClassifier](http://scikit-learn.org/stable/modules/generated/sklearn.multioutput.MultiOutputClassifier.html) helpful for predicting multiple target variables."
   ]
  },
  {
   "cell_type": "code",
   "execution_count": null,
   "metadata": {},
   "outputs": [],
   "source": [
    "pipeline = Pipeline([\n",
    "        ('vect', CountVectorizer(tokenizer=tokenize)),\n",
    "        ('tfidf', TfidfTransformer()),\n",
    "        ('clf', MultiOutputClassifier(RandomForestClassifier()))\n",
    "    ])"
   ]
  },
  {
   "cell_type": "code",
   "execution_count": null,
   "metadata": {
    "scrolled": false
   },
   "outputs": [],
   "source": [
    "pipeline.get_params()"
   ]
  },
  {
   "cell_type": "markdown",
   "metadata": {},
   "source": [
    "### 4. Train pipeline\n",
    "- Split data into train and test sets\n",
    "- Train pipeline"
   ]
  },
  {
   "cell_type": "code",
   "execution_count": null,
   "metadata": {},
   "outputs": [],
   "source": [
    "X = df['message']\n",
    "y = df.iloc[:,4:].astype('int64')\n",
    "X_train, X_test, y_train, y_test = train_test_split(X, y, random_state=42)\n",
    "# X_train, X_test, y_train, y_test = train_test_split(X.iloc[:50], y.iloc[:50,:], random_state=42)\n",
    "\n",
    "model = pipeline\n",
    "model.fit(X_train, y_train)\n",
    "y_pred = model.predict(X_test)\n",
    "\n",
    "accuracy = (y_pred == y_test).mean().mean()\n",
    "print(\"Accuracy:\", accuracy)"
   ]
  },
  {
   "cell_type": "code",
   "execution_count": null,
   "metadata": {},
   "outputs": [],
   "source": [
    "X = df['message']\n",
    "y = df.iloc[:,4:].astype('int64')\n",
    "X_train, X_test, y_train, y_test = train_test_split(X, y, random_state=42)\n",
    "list(np.unique(y))"
   ]
  },
  {
   "cell_type": "markdown",
   "metadata": {},
   "source": [
    "### 5. Test your model\n",
    "Report the f1 score, precision and recall for each output category of the dataset. You can do this by iterating through the columns and calling sklearn's `classification_report` on each."
   ]
  },
  {
   "cell_type": "code",
   "execution_count": null,
   "metadata": {
    "scrolled": false
   },
   "outputs": [],
   "source": [
    "for i in range(len(df.columns[5:])):\n",
    "    print(df.columns[5+i])\n",
    "    print(classification_report(y_test.to_numpy()[:, 0], y_pred[:, 0]))"
   ]
  },
  {
   "cell_type": "markdown",
   "metadata": {},
   "source": [
    "### 6. Improve your model\n",
    "Use grid search to find better parameters. "
   ]
  },
  {
   "cell_type": "code",
   "execution_count": null,
   "metadata": {},
   "outputs": [],
   "source": [
    "pipeline = Pipeline([\n",
    "        ('vect', CountVectorizer(tokenizer=tokenize)),\n",
    "        ('tfidf', TfidfTransformer()),\n",
    "        ('clf', MultiOutputClassifier(RandomForestClassifier()))\n",
    "    ])\n",
    "\n",
    "parameters = {\n",
    "    'vect__ngram_range': ((1, 1), (1, 2)),\n",
    "    'clf__estimator__bootstrap': (True, False)\n",
    "}\n",
    "\n",
    "cv = GridSearchCV(pipeline, param_grid=parameters, verbose=3) #added verbose=3"
   ]
  },
  {
   "cell_type": "code",
   "execution_count": null,
   "metadata": {},
   "outputs": [],
   "source": [
    "pipeline.get_params()"
   ]
  },
  {
   "cell_type": "markdown",
   "metadata": {},
   "source": [
    "### 7. Test your model\n",
    "Show the accuracy, precision, and recall of the tuned model.  \n",
    "\n",
    "Since this project focuses on code quality, process, and  pipelines, there is no minimum performance metric needed to pass. However, make sure to fine tune your models for accuracy, precision and recall to make your project stand out - especially for your portfolio!"
   ]
  },
  {
   "cell_type": "code",
   "execution_count": null,
   "metadata": {},
   "outputs": [],
   "source": [
    "def display_results(cv, y_test, y_pred):\n",
    "    '''\n",
    "    Show the accuracy, precision, and recall of \n",
    "    the tuned model.\n",
    "    '''\n",
    "    accuracy = (y_pred == y_test).mean()\n",
    "\n",
    "    print(\"Accuracy:\", accuracy)\n",
    "    print(\"\\nOverall Accuracy:\", accuracy.mean())\n",
    "    print(\"\\nBest Parameters:\", cv.best_params_)\n",
    "    \n",
    "def main():\n",
    "    '''\n",
    "    Splits the dataset into X_train, X_test, y_train, \n",
    "    y_test, builds the model, predicts the results, and \n",
    "    displays the results\n",
    "    '''\n",
    "    X = df['message']\n",
    "    y = df.iloc[:,4:].astype('int64')\n",
    "    X_train, X_test, y_train, y_test = train_test_split(X, y, random_state=42)\n",
    "\n",
    "    model = build_model()\n",
    "    model.fit(X_train, y_train)\n",
    "    y_pred = model.predict(X_test)\n",
    "\n",
    "    display_results(model, y_test, y_pred)\n",
    "    \n",
    "    \n",
    "main()"
   ]
  },
  {
   "cell_type": "markdown",
   "metadata": {},
   "source": [
    "### 8. Try improving your model further. Here are a few ideas:\n",
    "* try other machine learning algorithms\n",
    "* add other features besides the TF-IDF"
   ]
  },
  {
   "cell_type": "code",
   "execution_count": null,
   "metadata": {},
   "outputs": [],
   "source": [
    "class MessageLength(BaseEstimator, TransformerMixin):\n",
    "    '''\n",
    "    Calculates message length, which is later used \n",
    "    in the machiene learning pipeline\n",
    "    '''\n",
    "    def fit(self, X, y=None):\n",
    "        return self\n",
    "\n",
    "    def transform(self, X):\n",
    "        return pd.DataFrame(pd.Series(X).apply(lambda x: len(x)).values)\n",
    "        # return X.apply(lambda x: len(x)) didn't work. \n",
    "        # This is because the Custom Transformer returns only one row instead of 19584.\n",
    "        # The custom transformer is in parallel to the tfidftransformer, So the number \n",
    "        # of observations from both the transformer should be same.\n",
    "\n",
    "pipeline = Pipeline([\n",
    "    ('features', FeatureUnion([\n",
    "\n",
    "        ('text_pipeline', Pipeline([\n",
    "            ('vect', CountVectorizer(tokenizer=tokenize, ngram_range=(1, 2))), # ngram_range=(1, 2) from best param\n",
    "            ('tfidf', TfidfTransformer())\n",
    "        ])),\n",
    "\n",
    "        ('txt_len', MessageLength())\n",
    "    ])),\n",
    "\n",
    "    ('clf', MultiOutputClassifier(RandomForestClassifier(bootstrap = False))) # bootstrap = False from best param\n",
    "])\n",
    "     \n",
    "\n",
    "model = pipeline\n",
    "model.fit(X_train, y_train)\n",
    "y_pred = model.predict(X_test)\n",
    "accuracy = (y_pred == y_test).mean().mean()\n",
    "print(\"Accuracy:\", accuracy)"
   ]
  },
  {
   "cell_type": "markdown",
   "metadata": {},
   "source": [
    "### 9. Export your model as a pickle file"
   ]
  },
  {
   "cell_type": "code",
   "execution_count": null,
   "metadata": {},
   "outputs": [],
   "source": [
    "pickle.dump(model, open('classifier.pkl', 'wb'))"
   ]
  },
  {
   "cell_type": "markdown",
   "metadata": {},
   "source": [
    "### 10. Use this notebook to complete `train.py`\n",
    "Use the template file attached in the Resources folder to write a script that runs the steps above to create a database and export a model based on a new dataset specified by the user."
   ]
  },
  {
   "cell_type": "code",
   "execution_count": null,
   "metadata": {},
   "outputs": [],
   "source": [
    "import sys\n",
    "import pandas as pd\n",
    "import numpy as np\n",
    "from sqlalchemy import create_engine\n",
    "import sqlite3\n",
    "import re\n",
    "import nltk\n",
    "from nltk.corpus import stopwords\n",
    "from nltk.stem.wordnet import WordNetLemmatizer\n",
    "from nltk.tokenize import word_tokenize\n",
    "from sklearn.model_selection import train_test_split\n",
    "from sklearn.model_selection import GridSearchCV\n",
    "from sklearn.ensemble import RandomForestClassifier\n",
    "from sklearn.feature_extraction.text import CountVectorizer, TfidfTransformer\n",
    "from sklearn.metrics import classification_report\n",
    "from sklearn.base import BaseEstimator, TransformerMixin\n",
    "from sklearn.pipeline import Pipeline, FeatureUnion\n",
    "from sklearn.multioutput import MultiOutputClassifier\n",
    "from sklearn.base import BaseEstimator, TransformerMixin\n",
    "import pickle\n",
    "\n",
    "\n",
    "def load_data(database_filepath):\n",
    "    '''\n",
    "    Loads the data based on the file paths. In this \n",
    "    case please include 'DisasterResponse.db'to run \n",
    "    the function.\n",
    "    '''\n",
    "    engine = create_engine('sqlite:///' + database_filepath)\n",
    "    df = pd.read_sql(\"SELECT * FROM DisasterResponse\", engine)\n",
    "    X = df['message']\n",
    "    Y = df.iloc[:,4:].astype('int64')\n",
    "    category_names = list(np.unique(Y))\n",
    "    \n",
    "    return X, Y, category_names\n",
    "\n",
    "\n",
    "def tokenize(text):\n",
    "    '''\n",
    "    Tokenization function to process the text data\n",
    "    '''\n",
    "    tokens = word_tokenize(text)\n",
    "    lemmatizer = WordNetLemmatizer()\n",
    "    \n",
    "    clean_tokens = []\n",
    "    for tok in tokens:\n",
    "        clean_tok = lemmatizer.lemmatize(tok).lower().strip()\n",
    "        clean_tokens.append(clean_tok)\n",
    "    \n",
    "    return tokens\n",
    "\n",
    "class MessageLength(BaseEstimator, TransformerMixin):\n",
    "    '''\n",
    "    Calculates message length, which is later used \n",
    "    in the machiene learning pipeline\n",
    "    '''\n",
    "    def fit(self, X, y=None):\n",
    "        return self\n",
    "\n",
    "    def transform(self, X):\n",
    "        return pd.DataFrame(pd.Series(X).apply(lambda x: len(x)).values)\n",
    "        # return X.apply(lambda x: len(x)) didn't work. \n",
    "        # This is because the Custom Transformer returns only one row instead of 19584.\n",
    "        # The custom transformer is in parallel to the tfidftransformer, So the number \n",
    "        # of observations from both the transformer should be same.\n",
    "        \n",
    "def build_model():\n",
    "    '''\n",
    "    Builds the pipeline based on predefined parameters,\n",
    "    that's going to be used by GridSearchCV. MessageLength()\n",
    "    is used as an additional feauture in the model.\n",
    "    '''\n",
    "    parameters = {\n",
    "        'clf__estimator__criterion': ('gini', 'entropy'),\n",
    "        'clf__estimator__bootstrap': (True, False)\n",
    "    }\n",
    "        \n",
    "    pipeline = Pipeline([\n",
    "        ('features', FeatureUnion([\n",
    "\n",
    "            ('text_pipeline', Pipeline([\n",
    "                ('vect', CountVectorizer(tokenizer=tokenize)),\n",
    "                ('tfidf', TfidfTransformer())\n",
    "            ])),\n",
    "\n",
    "            ('txt_len', MessageLength())\n",
    "        ])),\n",
    "\n",
    "        ('clf', MultiOutputClassifier(RandomForestClassifier()))\n",
    "    ])\n",
    "    \n",
    "    cv = GridSearchCV(pipeline, param_grid=parameters, verbose=3) #added verbose=3\n",
    "    \n",
    "    return cv\n",
    "\n",
    "\n",
    "def evaluate_model(cv, X_test, Y_test, category_names):\n",
    "    '''\n",
    "    evaluating the model based on the overall accuracy, \n",
    "    f1 score, precision and recall\n",
    "    '''\n",
    "    Y_pred = cv.predict(X_test)\n",
    "    accuracy = (Y_pred == Y_test).mean().mean()\n",
    "    \n",
    "    for i in range(len(df.columns[5:])):\n",
    "        print(df.columns[5+i])\n",
    "        print(classification_report(Y_test.to_numpy()[:, 0], Y_pred[:, 0]))\n",
    "        print(accuracy)\n",
    "\n",
    "\n",
    "def save_model(model, model_filepath):\n",
    "    '''\n",
    "    exporting the model as a pickle file\n",
    "    '''\n",
    "    pickle.dump(model, open(model_filepath, 'wb'))\n",
    "    \n",
    "    #with open(model_filepath, 'wb') as file:\n",
    "    #    pickle.dump(model, file)\n",
    "        \n",
    "        \n",
    "def main():\n",
    "    database_filepath, model_filepath = 'DisasterResponse.db', 'classifier.pkl'\n",
    "    print('Loading data...\\n    DATABASE: {}'.format(database_filepath))\n",
    "    X, Y, category_names = load_data(database_filepath)\n",
    "    X_train, X_test, Y_train, Y_test = train_test_split(X, Y, test_size=0.2)\n",
    "\n",
    "    print('Building model...')\n",
    "    model = build_model()\n",
    "\n",
    "    print('Training model...')\n",
    "    model.fit(X_train, Y_train)\n",
    "\n",
    "    print('Model Parameters...')\n",
    "    print(model.best_params_)\n",
    "\n",
    "    #model = model.best_estimator_\n",
    "\n",
    "    print('Evaluating model...')\n",
    "    print(evaluate_model(model, X_test, Y_test, category_names))\n",
    "\n",
    "    print('Saving model...\\n MODEL: {}'.format(model_filepath))\n",
    "    save_model(model, model_filepath)\n",
    "        \n",
    "main()"
   ]
  }
 ],
 "metadata": {
  "kernelspec": {
   "display_name": "Python 3",
   "language": "python",
   "name": "python3"
  },
  "language_info": {
   "codemirror_mode": {
    "name": "ipython",
    "version": 3
   },
   "file_extension": ".py",
   "mimetype": "text/x-python",
   "name": "python",
   "nbconvert_exporter": "python",
   "pygments_lexer": "ipython3",
   "version": "3.8.5"
  }
 },
 "nbformat": 4,
 "nbformat_minor": 2
}
