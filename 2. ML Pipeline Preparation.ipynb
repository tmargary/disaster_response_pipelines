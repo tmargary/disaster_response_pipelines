{
 "cells": [
  {
   "cell_type": "markdown",
   "metadata": {},
   "source": [
    "# ML Pipeline Preparation\n",
    "Follow the instructions below to help you create your ML pipeline.\n",
    "### 1. Import libraries and load data from database.\n",
    "- Import Python libraries\n",
    "- Load dataset from database with [`read_sql_table`](https://pandas.pydata.org/pandas-docs/stable/generated/pandas.read_sql_table.html)\n",
    "- Define feature and target variables X and Y"
   ]
  },
  {
   "cell_type": "code",
   "execution_count": null,
   "metadata": {},
   "outputs": [],
   "source": [
    "# import libraries\n",
    "import pandas as pd\n",
    "import numpy as np\n",
    "from sqlalchemy import create_engine\n",
    "import sqlite3\n",
    "import re\n",
    "import nltk\n",
    "from nltk.corpus import stopwords\n",
    "from nltk.stem.wordnet import WordNetLemmatizer\n",
    "from nltk.tokenize import word_tokenize\n",
    "from sklearn.model_selection import train_test_split\n",
    "from sklearn.model_selection import GridSearchCV\n",
    "from sklearn.ensemble import RandomForestClassifier\n",
    "from sklearn.feature_extraction.text import CountVectorizer, TfidfTransformer\n",
    "from sklearn.metrics import classification_report\n",
    "from sklearn.base import BaseEstimator, TransformerMixin\n",
    "from sklearn.pipeline import Pipeline, FeatureUnion\n",
    "from sklearn.multioutput import MultiOutputClassifier\n",
    "from sklearn.base import BaseEstimator, TransformerMixin\n",
    "import pickle\n",
    "\n",
    "\n",
    "\n",
    "nltk.download(['punkt', 'wordnet'])"
   ]
  },
  {
   "cell_type": "code",
   "execution_count": null,
   "metadata": {},
   "outputs": [],
   "source": [
    "# load data from database\n",
    "engine = create_engine('sqlite:///DisasterResponse.db')\n",
    "df = pd.read_sql(\"SELECT * FROM DisasterResponse\", engine)\n",
    "df = df.iloc[:20,:]\n",
    "df.head()"
   ]
  },
  {
   "cell_type": "code",
   "execution_count": null,
   "metadata": {},
   "outputs": [],
   "source": [
    "df.shape"
   ]
  },
  {
   "cell_type": "markdown",
   "metadata": {},
   "source": [
    "### 2. Write a tokenization function to process your text data"
   ]
  },
  {
   "cell_type": "code",
   "execution_count": null,
   "metadata": {},
   "outputs": [],
   "source": [
    "def tokenize(text):\n",
    "    tokens = word_tokenize(text)\n",
    "    lemmatizer = WordNetLemmatizer()\n",
    "    \n",
    "    clean_tokens = []\n",
    "    for tok in tokens:\n",
    "        clean_tok = lemmatizer.lemmatize(tok).lower().strip()\n",
    "        clean_tokens.append(clean_tok)\n",
    "    \n",
    "    return tokens"
   ]
  },
  {
   "cell_type": "code",
   "execution_count": null,
   "metadata": {},
   "outputs": [],
   "source": [
    "# vect = CountVectorizer(tokenizer=tokenize)\n",
    "# tfidf = TfidfTransformer()\n",
    "# clf = MultiOutputClassifier(RandomForestClassifier())\n",
    "\n",
    "# # train classifier\n",
    "# X_train_counts = vect.fit_transform(X_train)\n",
    "# X_train_tfidf = tfidf.fit_transform(X_train_counts)\n",
    "# clf.fit(X_train_tfidf, y_train)\n",
    "\n",
    "# # predict on test data\n",
    "# X_test_counts = vect.transform(X_test)\n",
    "# X_test_tfidf = tfidf.transform(X_test_counts)\n",
    "# y_pred = clf.predict(X_test_tfidf)\n",
    "\n",
    "# accuracy = (y_pred == y_test).mean().mean()\n",
    "# accuracy"
   ]
  },
  {
   "cell_type": "markdown",
   "metadata": {},
   "source": [
    "### 3. Build a machine learning pipeline\n",
    "This machine pipeline should take in the `message` column as input and output classification results on the other 36 categories in the dataset. You may find the [MultiOutputClassifier](http://scikit-learn.org/stable/modules/generated/sklearn.multioutput.MultiOutputClassifier.html) helpful for predicting multiple target variables."
   ]
  },
  {
   "cell_type": "code",
   "execution_count": null,
   "metadata": {},
   "outputs": [],
   "source": [
    "pipeline = Pipeline([\n",
    "        ('vect', CountVectorizer(tokenizer=tokenize)),\n",
    "        ('tfidf', TfidfTransformer()),\n",
    "        ('clf', MultiOutputClassifier(RandomForestClassifier()))\n",
    "    ])"
   ]
  },
  {
   "cell_type": "code",
   "execution_count": null,
   "metadata": {
    "scrolled": false
   },
   "outputs": [],
   "source": [
    "pipeline.get_params()"
   ]
  },
  {
   "cell_type": "markdown",
   "metadata": {},
   "source": [
    "### 4. Train pipeline\n",
    "- Split data into train and test sets\n",
    "- Train pipeline"
   ]
  },
  {
   "cell_type": "code",
   "execution_count": null,
   "metadata": {},
   "outputs": [],
   "source": [
    "X = df['message']\n",
    "y = df.iloc[:,4:].astype('int64')\n",
    "X_train, X_test, y_train, y_test = train_test_split(X, y, random_state=42)\n",
    "# X_train, X_test, y_train, y_test = train_test_split(X.iloc[:50], y.iloc[:50,:], random_state=42)\n",
    "\n",
    "model = pipeline\n",
    "model.fit(X_train, y_train)\n",
    "y_pred = model.predict(X_test)\n",
    "\n",
    "accuracy = (y_pred == y_test).mean().mean()\n",
    "print(\"Accuracy:\", accuracy)"
   ]
  },
  {
   "cell_type": "code",
   "execution_count": null,
   "metadata": {},
   "outputs": [],
   "source": [
    "X = df['message']\n",
    "y = df.iloc[:,4:].astype('int64')\n",
    "X_train, X_test, y_train, y_test = train_test_split(X, y, random_state=42)\n",
    "# X_train, X_test, y_train, y_test = train_test_split(X.iloc[:50], y.iloc[:50,:], random_state=42)\n",
    "list(np.unique(y))"
   ]
  },
  {
   "cell_type": "markdown",
   "metadata": {},
   "source": [
    "### 5. Test your model\n",
    "Report the f1 score, precision and recall for each output category of the dataset. You can do this by iterating through the columns and calling sklearn's `classification_report` on each."
   ]
  },
  {
   "cell_type": "code",
   "execution_count": null,
   "metadata": {
    "scrolled": true
   },
   "outputs": [],
   "source": [
    "for i in range(len(df.columns[5:])):\n",
    "    print(df.columns[5+i])\n",
    "    print(classification_report(y_test.to_numpy()[:, 0], y_pred[:, 0]))"
   ]
  },
  {
   "cell_type": "markdown",
   "metadata": {},
   "source": [
    "### 6. Improve your model\n",
    "Use grid search to find better parameters. "
   ]
  },
  {
   "cell_type": "code",
   "execution_count": null,
   "metadata": {},
   "outputs": [],
   "source": [
    "pipeline = Pipeline([\n",
    "        ('vect', CountVectorizer(tokenizer=tokenize)),\n",
    "        ('tfidf', TfidfTransformer()),\n",
    "        ('clf', MultiOutputClassifier(RandomForestClassifier()))\n",
    "    ])\n",
    "\n",
    "parameters = {\n",
    "    'vect__ngram_range': ((1, 1), (1, 2)),\n",
    "    'clf__estimator__bootstrap': (True, False)\n",
    "}\n",
    "\n",
    "cv = GridSearchCV(pipeline, param_grid=parameters, verbose=3) #added verbose=3"
   ]
  },
  {
   "cell_type": "code",
   "execution_count": null,
   "metadata": {},
   "outputs": [],
   "source": [
    "pipeline.get_params()"
   ]
  },
  {
   "cell_type": "markdown",
   "metadata": {},
   "source": [
    "### 7. Test your model\n",
    "Show the accuracy, precision, and recall of the tuned model.  \n",
    "\n",
    "Since this project focuses on code quality, process, and  pipelines, there is no minimum performance metric needed to pass. However, make sure to fine tune your models for accuracy, precision and recall to make your project stand out - especially for your portfolio!"
   ]
  },
  {
   "cell_type": "code",
   "execution_count": null,
   "metadata": {},
   "outputs": [],
   "source": [
    "def display_results(cv, y_test, y_pred):\n",
    "    accuracy = (y_pred == y_test).mean()\n",
    "\n",
    "    print(\"Accuracy:\", accuracy)\n",
    "    print(\"\\nOverall Accuracy:\", accuracy.mean())\n",
    "    print(\"\\nBest Parameters:\", cv.best_params_)\n",
    "    \n",
    "\n",
    "    \n",
    "def main():\n",
    "    X = df['message']\n",
    "    y = df.iloc[:,4:].astype('int64')\n",
    "    X_train, X_test, y_train, y_test = train_test_split(X, y, random_state=42)\n",
    "    # X_train, X_test, y_train, y_test = train_test_split(X.iloc[:50], y.iloc[:50,:], random_state=42)\n",
    "\n",
    "    model = build_model()\n",
    "    model.fit(X_train, y_train)\n",
    "    y_pred = model.predict(X_test)\n",
    "\n",
    "    display_results(model, y_test, y_pred)\n",
    "    \n",
    "    \n",
    "main()"
   ]
  },
  {
   "cell_type": "markdown",
   "metadata": {},
   "source": [
    "### 8. Try improving your model further. Here are a few ideas:\n",
    "* try other machine learning algorithms\n",
    "* add other features besides the TF-IDF"
   ]
  },
  {
   "cell_type": "code",
   "execution_count": null,
   "metadata": {},
   "outputs": [],
   "source": [
    "class MessageLength(BaseEstimator, TransformerMixin):\n",
    "    def fit(self, X, y=None):\n",
    "        return self\n",
    "\n",
    "    def transform(self, X):\n",
    "        return pd.DataFrame(pd.Series(X).apply(lambda x: len(x)).values)\n",
    "        # return X.apply(lambda x: len(x)) didn't work. \n",
    "        # This is because the Custom Transformer returns only one row instead of 19584.\n",
    "        # The custom transformer is in parallel to the tfidftransformer, So the number \n",
    "        # of observations from both the transformer should be same.\n",
    "\n",
    "pipeline = Pipeline([\n",
    "    ('features', FeatureUnion([\n",
    "\n",
    "        ('text_pipeline', Pipeline([\n",
    "            ('vect', CountVectorizer(tokenizer=tokenize, ngram_range=(1, 2))), # ngram_range=(1, 2) from best param\n",
    "            ('tfidf', TfidfTransformer())\n",
    "        ])),\n",
    "\n",
    "        ('txt_len', MessageLength())\n",
    "    ])),\n",
    "\n",
    "    ('clf', MultiOutputClassifier(RandomForestClassifier(bootstrap = False))) # bootstrap = False from best param\n",
    "])\n",
    "     \n",
    "\n",
    "model = pipeline\n",
    "model.fit(X_train, y_train)\n",
    "y_pred = model.predict(X_test)\n",
    "accuracy = (y_pred == y_test).mean().mean()\n",
    "print(\"Accuracy:\", accuracy)"
   ]
  },
  {
   "cell_type": "markdown",
   "metadata": {},
   "source": [
    "### 9. Export your model as a pickle file"
   ]
  },
  {
   "cell_type": "code",
   "execution_count": null,
   "metadata": {},
   "outputs": [],
   "source": [
    "pickle.dump(model, open('classifier.pkl', 'wb'))"
   ]
  },
  {
   "cell_type": "markdown",
   "metadata": {},
   "source": [
    "### 10. Use this notebook to complete `train.py`\n",
    "Use the template file attached in the Resources folder to write a script that runs the steps above to create a database and export a model based on a new dataset specified by the user."
   ]
  },
  {
   "cell_type": "code",
   "execution_count": 1,
   "metadata": {
    "scrolled": false
   },
   "outputs": [
    {
     "name": "stdout",
     "output_type": "stream",
     "text": [
      "Loading data...\n",
      "    DATABASE: DisasterResponse.db\n",
      "Building model...\n",
      "Training model...\n",
      "Fitting 5 folds for each of 4 candidates, totalling 20 fits\n",
      "[CV] clf__estimator__bootstrap=True, clf__estimator__criterion=gini ..\n"
     ]
    },
    {
     "name": "stderr",
     "output_type": "stream",
     "text": [
      "[Parallel(n_jobs=1)]: Using backend SequentialBackend with 1 concurrent workers.\n"
     ]
    },
    {
     "name": "stdout",
     "output_type": "stream",
     "text": [
      "[CV]  clf__estimator__bootstrap=True, clf__estimator__criterion=gini, score=0.000, total=   7.2s\n",
      "[CV] clf__estimator__bootstrap=True, clf__estimator__criterion=gini ..\n"
     ]
    },
    {
     "name": "stderr",
     "output_type": "stream",
     "text": [
      "[Parallel(n_jobs=1)]: Done   1 out of   1 | elapsed:    7.1s remaining:    0.0s\n"
     ]
    },
    {
     "name": "stdout",
     "output_type": "stream",
     "text": [
      "[CV]  clf__estimator__bootstrap=True, clf__estimator__criterion=gini, score=0.000, total=   5.5s\n",
      "[CV] clf__estimator__bootstrap=True, clf__estimator__criterion=gini ..\n"
     ]
    },
    {
     "name": "stderr",
     "output_type": "stream",
     "text": [
      "[Parallel(n_jobs=1)]: Done   2 out of   2 | elapsed:   12.6s remaining:    0.0s\n"
     ]
    },
    {
     "name": "stdout",
     "output_type": "stream",
     "text": [
      "[CV]  clf__estimator__bootstrap=True, clf__estimator__criterion=gini, score=0.000, total=   6.6s\n",
      "[CV] clf__estimator__bootstrap=True, clf__estimator__criterion=gini ..\n",
      "[CV]  clf__estimator__bootstrap=True, clf__estimator__criterion=gini, score=0.000, total=   5.6s\n",
      "[CV] clf__estimator__bootstrap=True, clf__estimator__criterion=gini ..\n",
      "[CV]  clf__estimator__bootstrap=True, clf__estimator__criterion=gini, score=0.250, total=   4.9s\n",
      "[CV] clf__estimator__bootstrap=True, clf__estimator__criterion=entropy \n",
      "[CV]  clf__estimator__bootstrap=True, clf__estimator__criterion=entropy, score=0.000, total=   5.0s\n",
      "[CV] clf__estimator__bootstrap=True, clf__estimator__criterion=entropy \n",
      "[CV]  clf__estimator__bootstrap=True, clf__estimator__criterion=entropy, score=0.000, total=   5.0s\n",
      "[CV] clf__estimator__bootstrap=True, clf__estimator__criterion=entropy \n",
      "[CV]  clf__estimator__bootstrap=True, clf__estimator__criterion=entropy, score=0.000, total=   5.1s\n",
      "[CV] clf__estimator__bootstrap=True, clf__estimator__criterion=entropy \n",
      "[CV]  clf__estimator__bootstrap=True, clf__estimator__criterion=entropy, score=0.000, total=   5.1s\n",
      "[CV] clf__estimator__bootstrap=True, clf__estimator__criterion=entropy \n",
      "[CV]  clf__estimator__bootstrap=True, clf__estimator__criterion=entropy, score=0.250, total=   4.9s\n",
      "[CV] clf__estimator__bootstrap=False, clf__estimator__criterion=gini .\n",
      "[CV]  clf__estimator__bootstrap=False, clf__estimator__criterion=gini, score=0.125, total=   3.7s\n",
      "[CV] clf__estimator__bootstrap=False, clf__estimator__criterion=gini .\n",
      "[CV]  clf__estimator__bootstrap=False, clf__estimator__criterion=gini, score=0.125, total=   3.6s\n",
      "[CV] clf__estimator__bootstrap=False, clf__estimator__criterion=gini .\n",
      "[CV]  clf__estimator__bootstrap=False, clf__estimator__criterion=gini, score=0.000, total=   3.7s\n",
      "[CV] clf__estimator__bootstrap=False, clf__estimator__criterion=gini .\n",
      "[CV]  clf__estimator__bootstrap=False, clf__estimator__criterion=gini, score=0.000, total=   4.1s\n",
      "[CV] clf__estimator__bootstrap=False, clf__estimator__criterion=gini .\n",
      "[CV]  clf__estimator__bootstrap=False, clf__estimator__criterion=gini, score=0.125, total=   4.8s\n",
      "[CV] clf__estimator__bootstrap=False, clf__estimator__criterion=entropy \n",
      "[CV]  clf__estimator__bootstrap=False, clf__estimator__criterion=entropy, score=0.125, total=   5.1s\n",
      "[CV] clf__estimator__bootstrap=False, clf__estimator__criterion=entropy \n",
      "[CV]  clf__estimator__bootstrap=False, clf__estimator__criterion=entropy, score=0.125, total=   4.5s\n",
      "[CV] clf__estimator__bootstrap=False, clf__estimator__criterion=entropy \n",
      "[CV]  clf__estimator__bootstrap=False, clf__estimator__criterion=entropy, score=0.000, total=   4.5s\n",
      "[CV] clf__estimator__bootstrap=False, clf__estimator__criterion=entropy \n",
      "[CV]  clf__estimator__bootstrap=False, clf__estimator__criterion=entropy, score=0.000, total=   4.3s\n",
      "[CV] clf__estimator__bootstrap=False, clf__estimator__criterion=entropy \n",
      "[CV]  clf__estimator__bootstrap=False, clf__estimator__criterion=entropy, score=0.250, total=   3.9s\n"
     ]
    },
    {
     "name": "stderr",
     "output_type": "stream",
     "text": [
      "[Parallel(n_jobs=1)]: Done  20 out of  20 | elapsed:  1.6min finished\n"
     ]
    },
    {
     "name": "stdout",
     "output_type": "stream",
     "text": [
      "Model Parameters...\n",
      "{'clf__estimator__bootstrap': False, 'clf__estimator__criterion': 'entropy'}\n",
      "Evaluating model...\n",
      "0.9138888888888886\n",
      "Saving model...\n",
      " MODEL: classifier.pkl\n"
     ]
    },
    {
     "ename": "AttributeError",
     "evalue": "Can't pickle local object 'build_model.<locals>.MessageLength'",
     "output_type": "error",
     "traceback": [
      "\u001b[1;31m---------------------------------------------------------------------------\u001b[0m",
      "\u001b[1;31mAttributeError\u001b[0m                            Traceback (most recent call last)",
      "\u001b[1;32m<ipython-input-1-5d23edf85801>\u001b[0m in \u001b[0;36m<module>\u001b[1;34m\u001b[0m\n\u001b[0;32m    118\u001b[0m     \u001b[0msave_model\u001b[0m\u001b[1;33m(\u001b[0m\u001b[0mmodel\u001b[0m\u001b[1;33m,\u001b[0m \u001b[0mmodel_filepath\u001b[0m\u001b[1;33m)\u001b[0m\u001b[1;33m\u001b[0m\u001b[1;33m\u001b[0m\u001b[0m\n\u001b[0;32m    119\u001b[0m \u001b[1;33m\u001b[0m\u001b[0m\n\u001b[1;32m--> 120\u001b[1;33m \u001b[0mmain\u001b[0m\u001b[1;33m(\u001b[0m\u001b[1;33m)\u001b[0m\u001b[1;33m\u001b[0m\u001b[1;33m\u001b[0m\u001b[0m\n\u001b[0m",
      "\u001b[1;32m<ipython-input-1-5d23edf85801>\u001b[0m in \u001b[0;36mmain\u001b[1;34m()\u001b[0m\n\u001b[0;32m    116\u001b[0m \u001b[1;33m\u001b[0m\u001b[0m\n\u001b[0;32m    117\u001b[0m     \u001b[0mprint\u001b[0m\u001b[1;33m(\u001b[0m\u001b[1;34m'Saving model...\\n MODEL: {}'\u001b[0m\u001b[1;33m.\u001b[0m\u001b[0mformat\u001b[0m\u001b[1;33m(\u001b[0m\u001b[0mmodel_filepath\u001b[0m\u001b[1;33m)\u001b[0m\u001b[1;33m)\u001b[0m\u001b[1;33m\u001b[0m\u001b[1;33m\u001b[0m\u001b[0m\n\u001b[1;32m--> 118\u001b[1;33m     \u001b[0msave_model\u001b[0m\u001b[1;33m(\u001b[0m\u001b[0mmodel\u001b[0m\u001b[1;33m,\u001b[0m \u001b[0mmodel_filepath\u001b[0m\u001b[1;33m)\u001b[0m\u001b[1;33m\u001b[0m\u001b[1;33m\u001b[0m\u001b[0m\n\u001b[0m\u001b[0;32m    119\u001b[0m \u001b[1;33m\u001b[0m\u001b[0m\n\u001b[0;32m    120\u001b[0m \u001b[0mmain\u001b[0m\u001b[1;33m(\u001b[0m\u001b[1;33m)\u001b[0m\u001b[1;33m\u001b[0m\u001b[1;33m\u001b[0m\u001b[0m\n",
      "\u001b[1;32m<ipython-input-1-5d23edf85801>\u001b[0m in \u001b[0;36msave_model\u001b[1;34m(model, model_filepath)\u001b[0m\n\u001b[0;32m     89\u001b[0m \u001b[1;33m\u001b[0m\u001b[0m\n\u001b[0;32m     90\u001b[0m \u001b[1;32mdef\u001b[0m \u001b[0msave_model\u001b[0m\u001b[1;33m(\u001b[0m\u001b[0mmodel\u001b[0m\u001b[1;33m,\u001b[0m \u001b[0mmodel_filepath\u001b[0m\u001b[1;33m)\u001b[0m\u001b[1;33m:\u001b[0m\u001b[1;33m\u001b[0m\u001b[1;33m\u001b[0m\u001b[0m\n\u001b[1;32m---> 91\u001b[1;33m     \u001b[0mpickle\u001b[0m\u001b[1;33m.\u001b[0m\u001b[0mdump\u001b[0m\u001b[1;33m(\u001b[0m\u001b[0mmodel\u001b[0m\u001b[1;33m,\u001b[0m \u001b[0mopen\u001b[0m\u001b[1;33m(\u001b[0m\u001b[0mmodel_filepath\u001b[0m\u001b[1;33m,\u001b[0m \u001b[1;34m'wb'\u001b[0m\u001b[1;33m)\u001b[0m\u001b[1;33m)\u001b[0m\u001b[1;33m\u001b[0m\u001b[1;33m\u001b[0m\u001b[0m\n\u001b[0m\u001b[0;32m     92\u001b[0m \u001b[1;33m\u001b[0m\u001b[0m\n\u001b[0;32m     93\u001b[0m     \u001b[1;31m#with open(model_filepath, 'wb') as file:\u001b[0m\u001b[1;33m\u001b[0m\u001b[1;33m\u001b[0m\u001b[1;33m\u001b[0m\u001b[0m\n",
      "\u001b[1;31mAttributeError\u001b[0m: Can't pickle local object 'build_model.<locals>.MessageLength'"
     ]
    }
   ],
   "source": [
    "import sys\n",
    "import pandas as pd\n",
    "import numpy as np\n",
    "from sqlalchemy import create_engine\n",
    "import sqlite3\n",
    "import re\n",
    "import nltk\n",
    "from nltk.corpus import stopwords\n",
    "from nltk.stem.wordnet import WordNetLemmatizer\n",
    "from nltk.tokenize import word_tokenize\n",
    "from sklearn.model_selection import train_test_split\n",
    "from sklearn.model_selection import GridSearchCV\n",
    "from sklearn.ensemble import RandomForestClassifier\n",
    "from sklearn.feature_extraction.text import CountVectorizer, TfidfTransformer\n",
    "from sklearn.metrics import classification_report\n",
    "from sklearn.base import BaseEstimator, TransformerMixin\n",
    "from sklearn.pipeline import Pipeline, FeatureUnion\n",
    "from sklearn.multioutput import MultiOutputClassifier\n",
    "from sklearn.base import BaseEstimator, TransformerMixin\n",
    "import pickle\n",
    "\n",
    "\n",
    "def load_data(database_filepath):\n",
    "    engine = create_engine('sqlite:///' + database_filepath)\n",
    "    df = pd.read_sql(\"SELECT * FROM DisasterResponse\", engine)\n",
    "    df = df.iloc[:50,:]\n",
    "    X = df['message']\n",
    "    Y = df.iloc[:,4:].astype('int64')\n",
    "    category_names = list(np.unique(Y))\n",
    "    \n",
    "    return X, Y, category_names\n",
    "\n",
    "\n",
    "def tokenize(text):\n",
    "    tokens = word_tokenize(text)\n",
    "    lemmatizer = WordNetLemmatizer()\n",
    "    \n",
    "    clean_tokens = []\n",
    "    for tok in tokens:\n",
    "        clean_tok = lemmatizer.lemmatize(tok).lower().strip()\n",
    "        clean_tokens.append(clean_tok)\n",
    "    \n",
    "    return tokens\n",
    "\n",
    "\n",
    "def build_model():\n",
    "    class MessageLength(BaseEstimator, TransformerMixin):\n",
    "        def fit(self, X, y=None):\n",
    "            return self\n",
    "        \n",
    "\n",
    "\n",
    "        def transform(self, X):\n",
    "            return pd.DataFrame(pd.Series(X).apply(lambda x: len(x)).values)\n",
    "            # return X.apply(lambda x: len(x)) didn't work. \n",
    "            # This is because the Custom Transformer returns only one row instead of 19584.\n",
    "            # The custom transformer is in parallel to the tfidftransformer, So the number \n",
    "            # of observations from both the transformer should be same.\n",
    "\n",
    "    parameters = {\n",
    "        'clf__estimator__criterion': ('gini', 'entropy'),\n",
    "        'clf__estimator__bootstrap': (True, False)\n",
    "    }\n",
    "        \n",
    "    pipeline = Pipeline([\n",
    "        ('features', FeatureUnion([\n",
    "\n",
    "            ('text_pipeline', Pipeline([\n",
    "                ('vect', CountVectorizer(tokenizer=tokenize)),\n",
    "                ('tfidf', TfidfTransformer())\n",
    "            ])),\n",
    "\n",
    "            ('txt_len', MessageLength())\n",
    "        ])),\n",
    "\n",
    "        ('clf', MultiOutputClassifier(RandomForestClassifier()))\n",
    "    ])\n",
    "    \n",
    "    cv = GridSearchCV(pipeline, param_grid=parameters, verbose=3) #added verbose=3\n",
    "    \n",
    "    return cv\n",
    "\n",
    "\n",
    "def evaluate_model(cv, X_test, Y_test, category_names):\n",
    "    Y_pred = cv.predict(X_test)\n",
    "    accuracy = (Y_pred == Y_test).mean().mean()\n",
    "    return accuracy\n",
    "\n",
    "\n",
    "def save_model(model, model_filepath):\n",
    "    pickle.dump(model, open(model_filepath, 'wb'))\n",
    "    \n",
    "    #with open(model_filepath, 'wb') as file:\n",
    "    #    pickle.dump(model, file)\n",
    "        \n",
    "        \n",
    "def main():\n",
    "    database_filepath, model_filepath = 'DisasterResponse.db', 'classifier.pkl'\n",
    "    print('Loading data...\\n    DATABASE: {}'.format(database_filepath))\n",
    "    X, Y, category_names = load_data(database_filepath)\n",
    "    X_train, X_test, Y_train, Y_test = train_test_split(X, Y, test_size=0.2)\n",
    "\n",
    "    print('Building model...')\n",
    "    model = build_model()\n",
    "\n",
    "    print('Training model...')\n",
    "    model.fit(X_train, Y_train)\n",
    "\n",
    "    print('Model Parameters...')\n",
    "    print(model.best_params_)\n",
    "\n",
    "    #model = model.best_estimator_\n",
    "\n",
    "    print('Evaluating model...')\n",
    "    print(evaluate_model(model, X_test, Y_test, category_names))\n",
    "\n",
    "    print('Saving model...\\n MODEL: {}'.format(model_filepath))\n",
    "    save_model(model, model_filepath)\n",
    "        \n",
    "main()"
   ]
  }
 ],
 "metadata": {
  "kernelspec": {
   "display_name": "Python 3",
   "language": "python",
   "name": "python3"
  },
  "language_info": {
   "codemirror_mode": {
    "name": "ipython",
    "version": 3
   },
   "file_extension": ".py",
   "mimetype": "text/x-python",
   "name": "python",
   "nbconvert_exporter": "python",
   "pygments_lexer": "ipython3",
   "version": "3.8.5"
  }
 },
 "nbformat": 4,
 "nbformat_minor": 2
}
